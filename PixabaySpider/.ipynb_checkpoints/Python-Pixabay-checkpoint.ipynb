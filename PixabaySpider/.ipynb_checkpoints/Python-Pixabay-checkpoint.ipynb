{
 "cells": [
  {
   "cell_type": "code",
   "execution_count": 4,
   "metadata": {},
   "outputs": [],
   "source": [
    "from pixabay import Image, Video\n",
    "\n",
    "API_KEY = \"12529361-78722cf76d163c8adc77d4e0c\"\n",
    "\n",
    "def get_image(keyword=\"食物\", per_page=20):\n",
    "    # 默认下载 20 张图\n",
    "    image = Image(API_KEY)\n",
    "    image.search()\n",
    "    ims = image.search(q=keyword,\n",
    "                 lang='zh',\n",
    "                 image_type='photo',\n",
    "                 safesearch='true',\n",
    "                 order='latest',\n",
    "                 page=1,\n",
    "                 per_page=per_page)\n",
    "    return ims"
   ]
  },
  {
   "cell_type": "code",
   "execution_count": 18,
   "metadata": {},
   "outputs": [],
   "source": [
    "import requests\n",
    "\n",
    "def download_image(image_url):\n",
    "    response = requests.get(image_url)\n",
    "    filename = image_url.split('/')[-1]\n",
    "    with open('./Pic/'+filename, 'wb+') as f:\n",
    "        f.write(response.content)\n",
    "        "
   ]
  },
  {
   "cell_type": "code",
   "execution_count": 19,
   "metadata": {},
   "outputs": [
    {
     "name": "stdout",
     "output_type": "stream",
     "text": [
      "1 https://pixabay.com/get/52e2d4414d5bac14f6da8c7dda79367c103dd7e655506c48702a73d6914bc659be_1280.jpg\n",
      "2 https://pixabay.com/get/52e1dc454e55ae14f6da8c7dda79367c103dd7e655506c48702a73d6914bc659be_1280.jpg\n",
      "3 https://pixabay.com/get/52e1dc454955aa14f6da8c7dda79367c103dd7e655506c48702a73d6914bc659be_1280.jpg\n",
      "4 https://pixabay.com/get/52e1dc454955a914f6da8c7dda79367c103dd7e655506c48702a73d6914bc659be_1280.jpg\n",
      "5 https://pixabay.com/get/52e1dc454955a814f6da8c7dda79367c103dd7e655506c48702a73d6914bc659be_1280.jpg\n",
      "6 https://pixabay.com/get/52e1dc414855a814f6da8c7dda79367c103dd7e655506c48702a73d6914bc659be_1280.jpg\n",
      "7 https://pixabay.com/get/52e1dd4b4952ac14f6da8c7dda79367c103dd7e655506c48702a73d6914bc659be_1280.jpg\n",
      "8 https://pixabay.com/get/52e1dd46495aac14f6da8c7dda79367c103dd7e655506c48702a73d6914bc659be_1280.jpg\n",
      "9 https://pixabay.com/get/52e1dd434f5bab14f6da8c7dda79367c103dd7e655506c48702a73d6914bc659be_1280.jpg\n",
      "10 https://pixabay.com/get/52e1dd424b5aac14f6da8c7dda79367c103dd7e655506c48702a73d6914bc659be_1280.jpg\n",
      "11 https://pixabay.com/get/52e1d24a4e5bae14f6da8c7dda79367c103dd7e655506c48702a73d6914bc659be_1280.jpg\n",
      "12 https://pixabay.com/get/52e1d24a4e5bad14f6da8c7dda79367c103dd7e655506c48702a73d6914bc659be_1280.jpg\n",
      "13 https://pixabay.com/get/52e1d24a4e5aa414f6da8c7dda79367c103dd7e655506c48702a73d6914bc659be_1280.jpg\n",
      "14 https://pixabay.com/get/52e1d24a4e5aaf14f6da8c7dda79367c103dd7e655506c48702a73d6914bc659be_1280.jpg\n",
      "15 https://pixabay.com/get/52e1d34a4d52a914f6da8c7dda79367c103dd7e655506c48702a73d6914bc659be_1280.jpg\n",
      "16 https://pixabay.com/get/52e1d34a4b50ae14f6da8c7dda79367c103dd7e655506c48702a73d6914bc659be_1280.jpg\n",
      "17 https://pixabay.com/get/52e1d3474951a414f6da8c7dda79367c103dd7e655506c48702a73d6914bc659be_1280.jpg\n",
      "18 https://pixabay.com/get/52e1d3404855a514f6da8c7dda79367c103dd7e655506c48702a73d6914bc659be_1280.jpg\n",
      "19 https://pixabay.com/get/52e1d3434d51ab14f6da8c7dda79367c103dd7e655506c48702a73d6914bc659be_1280.jpg\n",
      "20 https://pixabay.com/get/52e1d3434850a414f6da8c7dda79367c103dd7e655506c48702a73d6914bc659be_1280.jpg\n"
     ]
    }
   ],
   "source": [
    "ims = get_image()\n",
    "for n, eve_url in enumerate(ims['hits']):\n",
    "    print(n+1, eve_url['largeImageURL'])"
   ]
  },
  {
   "cell_type": "code",
   "execution_count": 20,
   "metadata": {},
   "outputs": [
    {
     "name": "stdout",
     "output_type": "stream",
     "text": [
      "小黄图+1, 已有 1 张\n",
      "小黄图+1, 已有 2 张\n",
      "小黄图+1, 已有 3 张\n",
      "小黄图+1, 已有 4 张\n",
      "小黄图+1, 已有 5 张\n",
      "小黄图+1, 已有 6 张\n",
      "小黄图+1, 已有 7 张\n",
      "小黄图+1, 已有 8 张\n",
      "小黄图+1, 已有 9 张\n",
      "小黄图+1, 已有 10 张\n",
      "小黄图+1, 已有 11 张\n",
      "小黄图+1, 已有 12 张\n",
      "小黄图+1, 已有 13 张\n",
      "小黄图+1, 已有 14 张\n",
      "小黄图+1, 已有 15 张\n",
      "小黄图+1, 已有 16 张\n",
      "小黄图+1, 已有 17 张\n",
      "小黄图+1, 已有 18 张\n",
      "小黄图+1, 已有 19 张\n",
      "小黄图+1, 已有 20 张\n"
     ]
    }
   ],
   "source": [
    "for i, eve_url in enumerate(ims['hits']):\n",
    "    download_image(eve_url['largeImageURL'])\n",
    "    print(\"小黄图+1, 已有 {} 张\".format(i+1))"
   ]
  },
  {
   "cell_type": "code",
   "execution_count": null,
   "metadata": {},
   "outputs": [],
   "source": []
  }
 ],
 "metadata": {
  "kernelspec": {
   "display_name": "Python 3",
   "language": "python",
   "name": "python3"
  },
  "language_info": {
   "codemirror_mode": {
    "name": "ipython",
    "version": 3
   },
   "file_extension": ".py",
   "mimetype": "text/x-python",
   "name": "python",
   "nbconvert_exporter": "python",
   "pygments_lexer": "ipython3",
   "version": "3.6.5"
  }
 },
 "nbformat": 4,
 "nbformat_minor": 2
}
